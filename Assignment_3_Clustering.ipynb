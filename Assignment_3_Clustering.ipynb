{
 "cells": [
  {
   "cell_type": "code",
   "execution_count": 1,
   "id": "e888a2c5",
   "metadata": {},
   "outputs": [],
   "source": [
    "import pandas as pd\n",
    "import numpy as np\n",
    "import matplotlib.pyplot as plt\n",
    "import seaborn as sns\n",
    "from sklearn.preprocessing import StandardScaler\n",
    "from sklearn.cluster import KMeans\n",
    "import scipy.cluster.hierarchy as sch\n",
    "from sklearn.cluster import AgglomerativeClustering"
   ]
  },
  {
   "cell_type": "code",
   "execution_count": 3,
   "id": "aa48e3ce",
   "metadata": {},
   "outputs": [
    {
     "data": {
      "text/html": [
       "<div>\n",
       "<style scoped>\n",
       "    .dataframe tbody tr th:only-of-type {\n",
       "        vertical-align: middle;\n",
       "    }\n",
       "\n",
       "    .dataframe tbody tr th {\n",
       "        vertical-align: top;\n",
       "    }\n",
       "\n",
       "    .dataframe thead th {\n",
       "        text-align: right;\n",
       "    }\n",
       "</style>\n",
       "<table border=\"1\" class=\"dataframe\">\n",
       "  <thead>\n",
       "    <tr style=\"text-align: right;\">\n",
       "      <th></th>\n",
       "      <th>Channel</th>\n",
       "      <th>Region</th>\n",
       "      <th>Fresh</th>\n",
       "      <th>Milk</th>\n",
       "      <th>Grocery</th>\n",
       "      <th>Frozen</th>\n",
       "      <th>Detergents_Paper</th>\n",
       "      <th>Delicassen</th>\n",
       "    </tr>\n",
       "  </thead>\n",
       "  <tbody>\n",
       "    <tr>\n",
       "      <th>0</th>\n",
       "      <td>2</td>\n",
       "      <td>3</td>\n",
       "      <td>12669</td>\n",
       "      <td>9656</td>\n",
       "      <td>7561</td>\n",
       "      <td>214</td>\n",
       "      <td>2674</td>\n",
       "      <td>1338</td>\n",
       "    </tr>\n",
       "    <tr>\n",
       "      <th>1</th>\n",
       "      <td>2</td>\n",
       "      <td>3</td>\n",
       "      <td>7057</td>\n",
       "      <td>9810</td>\n",
       "      <td>9568</td>\n",
       "      <td>1762</td>\n",
       "      <td>3293</td>\n",
       "      <td>1776</td>\n",
       "    </tr>\n",
       "    <tr>\n",
       "      <th>2</th>\n",
       "      <td>2</td>\n",
       "      <td>3</td>\n",
       "      <td>6353</td>\n",
       "      <td>8808</td>\n",
       "      <td>7684</td>\n",
       "      <td>2405</td>\n",
       "      <td>3516</td>\n",
       "      <td>7844</td>\n",
       "    </tr>\n",
       "    <tr>\n",
       "      <th>3</th>\n",
       "      <td>1</td>\n",
       "      <td>3</td>\n",
       "      <td>13265</td>\n",
       "      <td>1196</td>\n",
       "      <td>4221</td>\n",
       "      <td>6404</td>\n",
       "      <td>507</td>\n",
       "      <td>1788</td>\n",
       "    </tr>\n",
       "    <tr>\n",
       "      <th>4</th>\n",
       "      <td>2</td>\n",
       "      <td>3</td>\n",
       "      <td>22615</td>\n",
       "      <td>5410</td>\n",
       "      <td>7198</td>\n",
       "      <td>3915</td>\n",
       "      <td>1777</td>\n",
       "      <td>5185</td>\n",
       "    </tr>\n",
       "  </tbody>\n",
       "</table>\n",
       "</div>"
      ],
      "text/plain": [
       "   Channel  Region  Fresh  Milk  Grocery  Frozen  Detergents_Paper  Delicassen\n",
       "0        2       3  12669  9656     7561     214              2674        1338\n",
       "1        2       3   7057  9810     9568    1762              3293        1776\n",
       "2        2       3   6353  8808     7684    2405              3516        7844\n",
       "3        1       3  13265  1196     4221    6404               507        1788\n",
       "4        2       3  22615  5410     7198    3915              1777        5185"
      ]
     },
     "execution_count": 3,
     "metadata": {},
     "output_type": "execute_result"
    }
   ],
   "source": [
    "df= pd.read_csv('Wholesale customers data.csv')\n",
    "df.head()"
   ]
  },
  {
   "cell_type": "code",
   "execution_count": null,
   "id": "0b2c6098",
   "metadata": {},
   "outputs": [],
   "source": [
    "#DATA DESCRIPTION\n"
   ]
  },
  {
   "cell_type": "code",
   "execution_count": 4,
   "id": "83f47888",
   "metadata": {},
   "outputs": [
    {
     "data": {
      "text/html": [
       "<div>\n",
       "<style scoped>\n",
       "    .dataframe tbody tr th:only-of-type {\n",
       "        vertical-align: middle;\n",
       "    }\n",
       "\n",
       "    .dataframe tbody tr th {\n",
       "        vertical-align: top;\n",
       "    }\n",
       "\n",
       "    .dataframe thead th {\n",
       "        text-align: right;\n",
       "    }\n",
       "</style>\n",
       "<table border=\"1\" class=\"dataframe\">\n",
       "  <thead>\n",
       "    <tr style=\"text-align: right;\">\n",
       "      <th></th>\n",
       "      <th>Channel</th>\n",
       "      <th>Region</th>\n",
       "      <th>Fresh</th>\n",
       "      <th>Milk</th>\n",
       "      <th>Grocery</th>\n",
       "      <th>Frozen</th>\n",
       "      <th>Detergents_Paper</th>\n",
       "      <th>Delicassen</th>\n",
       "    </tr>\n",
       "  </thead>\n",
       "  <tbody>\n",
       "    <tr>\n",
       "      <th>count</th>\n",
       "      <td>440.000000</td>\n",
       "      <td>440.000000</td>\n",
       "      <td>440.000000</td>\n",
       "      <td>440.000000</td>\n",
       "      <td>440.000000</td>\n",
       "      <td>440.000000</td>\n",
       "      <td>440.000000</td>\n",
       "      <td>440.000000</td>\n",
       "    </tr>\n",
       "    <tr>\n",
       "      <th>mean</th>\n",
       "      <td>1.322727</td>\n",
       "      <td>2.543182</td>\n",
       "      <td>12000.297727</td>\n",
       "      <td>5796.265909</td>\n",
       "      <td>7951.277273</td>\n",
       "      <td>3071.931818</td>\n",
       "      <td>2881.493182</td>\n",
       "      <td>1524.870455</td>\n",
       "    </tr>\n",
       "    <tr>\n",
       "      <th>std</th>\n",
       "      <td>0.468052</td>\n",
       "      <td>0.774272</td>\n",
       "      <td>12647.328865</td>\n",
       "      <td>7380.377175</td>\n",
       "      <td>9503.162829</td>\n",
       "      <td>4854.673333</td>\n",
       "      <td>4767.854448</td>\n",
       "      <td>2820.105937</td>\n",
       "    </tr>\n",
       "    <tr>\n",
       "      <th>min</th>\n",
       "      <td>1.000000</td>\n",
       "      <td>1.000000</td>\n",
       "      <td>3.000000</td>\n",
       "      <td>55.000000</td>\n",
       "      <td>3.000000</td>\n",
       "      <td>25.000000</td>\n",
       "      <td>3.000000</td>\n",
       "      <td>3.000000</td>\n",
       "    </tr>\n",
       "    <tr>\n",
       "      <th>25%</th>\n",
       "      <td>1.000000</td>\n",
       "      <td>2.000000</td>\n",
       "      <td>3127.750000</td>\n",
       "      <td>1533.000000</td>\n",
       "      <td>2153.000000</td>\n",
       "      <td>742.250000</td>\n",
       "      <td>256.750000</td>\n",
       "      <td>408.250000</td>\n",
       "    </tr>\n",
       "    <tr>\n",
       "      <th>50%</th>\n",
       "      <td>1.000000</td>\n",
       "      <td>3.000000</td>\n",
       "      <td>8504.000000</td>\n",
       "      <td>3627.000000</td>\n",
       "      <td>4755.500000</td>\n",
       "      <td>1526.000000</td>\n",
       "      <td>816.500000</td>\n",
       "      <td>965.500000</td>\n",
       "    </tr>\n",
       "    <tr>\n",
       "      <th>75%</th>\n",
       "      <td>2.000000</td>\n",
       "      <td>3.000000</td>\n",
       "      <td>16933.750000</td>\n",
       "      <td>7190.250000</td>\n",
       "      <td>10655.750000</td>\n",
       "      <td>3554.250000</td>\n",
       "      <td>3922.000000</td>\n",
       "      <td>1820.250000</td>\n",
       "    </tr>\n",
       "    <tr>\n",
       "      <th>max</th>\n",
       "      <td>2.000000</td>\n",
       "      <td>3.000000</td>\n",
       "      <td>112151.000000</td>\n",
       "      <td>73498.000000</td>\n",
       "      <td>92780.000000</td>\n",
       "      <td>60869.000000</td>\n",
       "      <td>40827.000000</td>\n",
       "      <td>47943.000000</td>\n",
       "    </tr>\n",
       "  </tbody>\n",
       "</table>\n",
       "</div>"
      ],
      "text/plain": [
       "          Channel      Region          Fresh          Milk       Grocery  \\\n",
       "count  440.000000  440.000000     440.000000    440.000000    440.000000   \n",
       "mean     1.322727    2.543182   12000.297727   5796.265909   7951.277273   \n",
       "std      0.468052    0.774272   12647.328865   7380.377175   9503.162829   \n",
       "min      1.000000    1.000000       3.000000     55.000000      3.000000   \n",
       "25%      1.000000    2.000000    3127.750000   1533.000000   2153.000000   \n",
       "50%      1.000000    3.000000    8504.000000   3627.000000   4755.500000   \n",
       "75%      2.000000    3.000000   16933.750000   7190.250000  10655.750000   \n",
       "max      2.000000    3.000000  112151.000000  73498.000000  92780.000000   \n",
       "\n",
       "             Frozen  Detergents_Paper    Delicassen  \n",
       "count    440.000000        440.000000    440.000000  \n",
       "mean    3071.931818       2881.493182   1524.870455  \n",
       "std     4854.673333       4767.854448   2820.105937  \n",
       "min       25.000000          3.000000      3.000000  \n",
       "25%      742.250000        256.750000    408.250000  \n",
       "50%     1526.000000        816.500000    965.500000  \n",
       "75%     3554.250000       3922.000000   1820.250000  \n",
       "max    60869.000000      40827.000000  47943.000000  "
      ]
     },
     "execution_count": 4,
     "metadata": {},
     "output_type": "execute_result"
    }
   ],
   "source": [
    "df.describe()"
   ]
  },
  {
   "cell_type": "code",
   "execution_count": null,
   "id": "a01f1dc8",
   "metadata": {},
   "outputs": [],
   "source": [
    "#DATA INFO"
   ]
  },
  {
   "cell_type": "code",
   "execution_count": 5,
   "id": "38746672",
   "metadata": {},
   "outputs": [
    {
     "name": "stdout",
     "output_type": "stream",
     "text": [
      "<class 'pandas.core.frame.DataFrame'>\n",
      "RangeIndex: 440 entries, 0 to 439\n",
      "Data columns (total 8 columns):\n",
      " #   Column            Non-Null Count  Dtype\n",
      "---  ------            --------------  -----\n",
      " 0   Channel           440 non-null    int64\n",
      " 1   Region            440 non-null    int64\n",
      " 2   Fresh             440 non-null    int64\n",
      " 3   Milk              440 non-null    int64\n",
      " 4   Grocery           440 non-null    int64\n",
      " 5   Frozen            440 non-null    int64\n",
      " 6   Detergents_Paper  440 non-null    int64\n",
      " 7   Delicassen        440 non-null    int64\n",
      "dtypes: int64(8)\n",
      "memory usage: 27.6 KB\n"
     ]
    }
   ],
   "source": [
    "df.info()"
   ]
  },
  {
   "cell_type": "code",
   "execution_count": null,
   "id": "eac81a95",
   "metadata": {},
   "outputs": [],
   "source": [
    "#CHECKING FOR MISSING VALUES"
   ]
  },
  {
   "cell_type": "code",
   "execution_count": 6,
   "id": "5bc8fe37",
   "metadata": {},
   "outputs": [
    {
     "data": {
      "text/plain": [
       "Channel             0\n",
       "Region              0\n",
       "Fresh               0\n",
       "Milk                0\n",
       "Grocery             0\n",
       "Frozen              0\n",
       "Detergents_Paper    0\n",
       "Delicassen          0\n",
       "dtype: int64"
      ]
     },
     "execution_count": 6,
     "metadata": {},
     "output_type": "execute_result"
    }
   ],
   "source": [
    "df.isna().sum()"
   ]
  },
  {
   "cell_type": "code",
   "execution_count": null,
   "id": "54cf70f9",
   "metadata": {},
   "outputs": [],
   "source": [
    "#There is no missing values inside the data"
   ]
  },
  {
   "cell_type": "code",
   "execution_count": null,
   "id": "9c7dc172",
   "metadata": {},
   "outputs": [],
   "source": [
    "CHECKING FOR ANY OUTLIERS"
   ]
  },
  {
   "cell_type": "code",
   "execution_count": 7,
   "id": "2dbda099",
   "metadata": {},
   "outputs": [
    {
     "data": {
      "text/plain": [
       "Index(['Channel', 'Region', 'Fresh', 'Milk', 'Grocery', 'Frozen',\n",
       "       'Detergents_Paper', 'Delicassen'],\n",
       "      dtype='object')"
      ]
     },
     "execution_count": 7,
     "metadata": {},
     "output_type": "execute_result"
    }
   ],
   "source": [
    "df.columns"
   ]
  },
  {
   "cell_type": "code",
   "execution_count": 8,
   "id": "1a4aa31e",
   "metadata": {},
   "outputs": [],
   "source": [
    "df_spend= df[['Fresh', 'Milk', 'Grocery', 'Frozen',\n",
    "       'Detergents_Paper', 'Delicassen']]"
   ]
  },
  {
   "cell_type": "code",
   "execution_count": null,
   "id": "6cd415e3",
   "metadata": {},
   "outputs": [],
   "source": [
    "#NUMBER OF OUTLIERS IN EACH COLUMNS"
   ]
  },
  {
   "cell_type": "code",
   "execution_count": 9,
   "id": "defa1483",
   "metadata": {},
   "outputs": [
    {
     "name": "stdout",
     "output_type": "stream",
     "text": [
      "Channel 0\n",
      "Region 0\n",
      "Fresh 20\n",
      "Milk 28\n",
      "Grocery 24\n",
      "Frozen 43\n",
      "Detergents_Paper 30\n",
      "Delicassen 27\n"
     ]
    }
   ],
   "source": [
    "for k in df.columns:\n",
    "    q1= df[k].quantile(0.25)\n",
    "    q3= df[k].quantile(0.75)\n",
    "    iqr= q3-q1\n",
    "    low = q1-1.5*iqr\n",
    "    upp= q3+1.5*iqr\n",
    "    outliers= df[((df[k]<low)|(df[k]>upp))]    \n",
    "    print(k, len(outliers))"
   ]
  },
  {
   "cell_type": "code",
   "execution_count": null,
   "id": "afae5e4a",
   "metadata": {},
   "outputs": [],
   "source": [
    "#REMOVING ALL OUTLIERS"
   ]
  },
  {
   "cell_type": "code",
   "execution_count": 10,
   "id": "abb2398c",
   "metadata": {},
   "outputs": [],
   "source": [
    "for j in df:\n",
    "    Q1 = df[j].quantile(0.25)\n",
    "    Q3 = df[j].quantile(0.75)\n",
    "    IQR = Q3 - Q1\n",
    "    l_lim=Q1-1.5*IQR\n",
    "    u_lim=Q3+1.5*IQR\n",
    "    df[j].where(df[j] >=l_lim,l_lim, inplace=True)  #clipping all lower outliers with lower limit\n",
    "    df[j].where(df[j] <=u_lim,u_lim, inplace=True)  #clipping all upper outliers with upper-limit"
   ]
  },
  {
   "cell_type": "code",
   "execution_count": null,
   "id": "72be7cb1",
   "metadata": {},
   "outputs": [],
   "source": [
    "#CHECKING NUMBER OF OUTLIERS AFTER REMOVING THEM"
   ]
  },
  {
   "cell_type": "code",
   "execution_count": 11,
   "id": "9a90a0ae",
   "metadata": {},
   "outputs": [
    {
     "name": "stdout",
     "output_type": "stream",
     "text": [
      "Channel 0\n",
      "Region 0\n",
      "Fresh 0\n",
      "Milk 0\n",
      "Grocery 0\n",
      "Frozen 0\n",
      "Detergents_Paper 0\n",
      "Delicassen 0\n"
     ]
    }
   ],
   "source": [
    "for k in df.columns:\n",
    "    q1= df[k].quantile(0.25)\n",
    "    q3= df[k].quantile(0.75)\n",
    "    iqr= q3-q1\n",
    "    low = q1-1.5*iqr\n",
    "    upp= q3+1.5*iqr\n",
    "    outliers= df[((df[k]<low)|(df[k]>upp))]    \n",
    "    print(k, len(outliers))"
   ]
  },
  {
   "cell_type": "code",
   "execution_count": null,
   "id": "852c3f08",
   "metadata": {},
   "outputs": [],
   "source": [
    "#SCAILING"
   ]
  },
  {
   "cell_type": "code",
   "execution_count": 12,
   "id": "3195c759",
   "metadata": {},
   "outputs": [
    {
     "data": {
      "text/plain": [
       "StandardScaler()"
      ]
     },
     "execution_count": 12,
     "metadata": {},
     "output_type": "execute_result"
    }
   ],
   "source": [
    "sc= StandardScaler()\n",
    "sc.fit(df)"
   ]
  },
  {
   "cell_type": "code",
   "execution_count": 13,
   "id": "98a136a3",
   "metadata": {},
   "outputs": [],
   "source": [
    "scaled_data= sc.transform(df)"
   ]
  },
  {
   "cell_type": "code",
   "execution_count": 14,
   "id": "33072575",
   "metadata": {},
   "outputs": [
    {
     "data": {
      "text/plain": [
       "Index(['Channel', 'Region', 'Fresh', 'Milk', 'Grocery', 'Frozen',\n",
       "       'Detergents_Paper', 'Delicassen'],\n",
       "      dtype='object')"
      ]
     },
     "execution_count": 14,
     "metadata": {},
     "output_type": "execute_result"
    }
   ],
   "source": [
    "df.columns"
   ]
  },
  {
   "cell_type": "code",
   "execution_count": 15,
   "id": "b7e67843",
   "metadata": {},
   "outputs": [],
   "source": [
    "scaled_df= pd.DataFrame(scaled_data,columns=\n",
    "                     ['Channel', 'Region', 'Fresh', 'Milk', 'Grocery', 'Frozen',\n",
    "       'Detergents_Paper', 'Delicassen'])"
   ]
  },
  {
   "cell_type": "code",
   "execution_count": 16,
   "id": "05078ef7",
   "metadata": {},
   "outputs": [
    {
     "data": {
      "text/html": [
       "<div>\n",
       "<style scoped>\n",
       "    .dataframe tbody tr th:only-of-type {\n",
       "        vertical-align: middle;\n",
       "    }\n",
       "\n",
       "    .dataframe tbody tr th {\n",
       "        vertical-align: top;\n",
       "    }\n",
       "\n",
       "    .dataframe thead th {\n",
       "        text-align: right;\n",
       "    }\n",
       "</style>\n",
       "<table border=\"1\" class=\"dataframe\">\n",
       "  <thead>\n",
       "    <tr style=\"text-align: right;\">\n",
       "      <th></th>\n",
       "      <th>Channel</th>\n",
       "      <th>Region</th>\n",
       "      <th>Fresh</th>\n",
       "      <th>Milk</th>\n",
       "      <th>Grocery</th>\n",
       "      <th>Frozen</th>\n",
       "      <th>Detergents_Paper</th>\n",
       "      <th>Delicassen</th>\n",
       "    </tr>\n",
       "  </thead>\n",
       "  <tbody>\n",
       "    <tr>\n",
       "      <th>0</th>\n",
       "      <td>1.448652</td>\n",
       "      <td>0.590668</td>\n",
       "      <td>0.128573</td>\n",
       "      <td>1.051586</td>\n",
       "      <td>0.049267</td>\n",
       "      <td>-0.953244</td>\n",
       "      <td>0.095792</td>\n",
       "      <td>0.065892</td>\n",
       "    </tr>\n",
       "    <tr>\n",
       "      <th>1</th>\n",
       "      <td>1.448652</td>\n",
       "      <td>0.590668</td>\n",
       "      <td>-0.421627</td>\n",
       "      <td>1.086735</td>\n",
       "      <td>0.353865</td>\n",
       "      <td>-0.309735</td>\n",
       "      <td>0.306519</td>\n",
       "      <td>0.470759</td>\n",
       "    </tr>\n",
       "    <tr>\n",
       "      <th>2</th>\n",
       "      <td>1.448652</td>\n",
       "      <td>0.590668</td>\n",
       "      <td>-0.490647</td>\n",
       "      <td>0.858040</td>\n",
       "      <td>0.067935</td>\n",
       "      <td>-0.042437</td>\n",
       "      <td>0.382435</td>\n",
       "      <td>2.469440</td>\n",
       "    </tr>\n",
       "    <tr>\n",
       "      <th>3</th>\n",
       "      <td>-0.690297</td>\n",
       "      <td>0.590668</td>\n",
       "      <td>0.187004</td>\n",
       "      <td>-0.879308</td>\n",
       "      <td>-0.457635</td>\n",
       "      <td>1.619962</td>\n",
       "      <td>-0.641923</td>\n",
       "      <td>0.481851</td>\n",
       "    </tr>\n",
       "    <tr>\n",
       "      <th>4</th>\n",
       "      <td>1.448652</td>\n",
       "      <td>0.590668</td>\n",
       "      <td>1.103677</td>\n",
       "      <td>0.082487</td>\n",
       "      <td>-0.005824</td>\n",
       "      <td>0.585275</td>\n",
       "      <td>-0.209575</td>\n",
       "      <td>2.469440</td>\n",
       "    </tr>\n",
       "    <tr>\n",
       "      <th>...</th>\n",
       "      <td>...</td>\n",
       "      <td>...</td>\n",
       "      <td>...</td>\n",
       "      <td>...</td>\n",
       "      <td>...</td>\n",
       "      <td>...</td>\n",
       "      <td>...</td>\n",
       "      <td>...</td>\n",
       "    </tr>\n",
       "    <tr>\n",
       "      <th>435</th>\n",
       "      <td>-0.690297</td>\n",
       "      <td>0.590668</td>\n",
       "      <td>1.798584</td>\n",
       "      <td>1.598216</td>\n",
       "      <td>1.334130</td>\n",
       "      <td>2.188748</td>\n",
       "      <td>-0.752563</td>\n",
       "      <td>0.866381</td>\n",
       "    </tr>\n",
       "    <tr>\n",
       "      <th>436</th>\n",
       "      <td>-0.690297</td>\n",
       "      <td>0.590668</td>\n",
       "      <td>2.576996</td>\n",
       "      <td>-0.825672</td>\n",
       "      <td>-0.982295</td>\n",
       "      <td>0.832619</td>\n",
       "      <td>-0.782861</td>\n",
       "      <td>0.997640</td>\n",
       "    </tr>\n",
       "    <tr>\n",
       "      <th>437</th>\n",
       "      <td>1.448652</td>\n",
       "      <td>0.590668</td>\n",
       "      <td>0.311123</td>\n",
       "      <td>2.382670</td>\n",
       "      <td>2.454609</td>\n",
       "      <td>-0.860542</td>\n",
       "      <td>2.392299</td>\n",
       "      <td>0.554875</td>\n",
       "    </tr>\n",
       "    <tr>\n",
       "      <th>438</th>\n",
       "      <td>-0.690297</td>\n",
       "      <td>0.590668</td>\n",
       "      <td>-0.104664</td>\n",
       "      <td>-0.700141</td>\n",
       "      <td>-0.759501</td>\n",
       "      <td>-0.610704</td>\n",
       "      <td>-0.757329</td>\n",
       "      <td>0.793358</td>\n",
       "    </tr>\n",
       "    <tr>\n",
       "      <th>439</th>\n",
       "      <td>-0.690297</td>\n",
       "      <td>0.590668</td>\n",
       "      <td>-0.840257</td>\n",
       "      <td>-0.764733</td>\n",
       "      <td>-0.717309</td>\n",
       "      <td>-1.015184</td>\n",
       "      <td>-0.652136</td>\n",
       "      <td>-1.122825</td>\n",
       "    </tr>\n",
       "  </tbody>\n",
       "</table>\n",
       "<p>440 rows × 8 columns</p>\n",
       "</div>"
      ],
      "text/plain": [
       "      Channel    Region     Fresh      Milk   Grocery    Frozen  \\\n",
       "0    1.448652  0.590668  0.128573  1.051586  0.049267 -0.953244   \n",
       "1    1.448652  0.590668 -0.421627  1.086735  0.353865 -0.309735   \n",
       "2    1.448652  0.590668 -0.490647  0.858040  0.067935 -0.042437   \n",
       "3   -0.690297  0.590668  0.187004 -0.879308 -0.457635  1.619962   \n",
       "4    1.448652  0.590668  1.103677  0.082487 -0.005824  0.585275   \n",
       "..        ...       ...       ...       ...       ...       ...   \n",
       "435 -0.690297  0.590668  1.798584  1.598216  1.334130  2.188748   \n",
       "436 -0.690297  0.590668  2.576996 -0.825672 -0.982295  0.832619   \n",
       "437  1.448652  0.590668  0.311123  2.382670  2.454609 -0.860542   \n",
       "438 -0.690297  0.590668 -0.104664 -0.700141 -0.759501 -0.610704   \n",
       "439 -0.690297  0.590668 -0.840257 -0.764733 -0.717309 -1.015184   \n",
       "\n",
       "     Detergents_Paper  Delicassen  \n",
       "0            0.095792    0.065892  \n",
       "1            0.306519    0.470759  \n",
       "2            0.382435    2.469440  \n",
       "3           -0.641923    0.481851  \n",
       "4           -0.209575    2.469440  \n",
       "..                ...         ...  \n",
       "435         -0.752563    0.866381  \n",
       "436         -0.782861    0.997640  \n",
       "437          2.392299    0.554875  \n",
       "438         -0.757329    0.793358  \n",
       "439         -0.652136   -1.122825  \n",
       "\n",
       "[440 rows x 8 columns]"
      ]
     },
     "execution_count": 16,
     "metadata": {},
     "output_type": "execute_result"
    }
   ],
   "source": [
    "scaled_df"
   ]
  },
  {
   "cell_type": "code",
   "execution_count": null,
   "id": "06ecfc16",
   "metadata": {},
   "outputs": [],
   "source": [
    "#MODELLING"
   ]
  },
  {
   "cell_type": "code",
   "execution_count": null,
   "id": "953ff78b",
   "metadata": {},
   "outputs": [],
   "source": [
    "#KMEANS CLUSTERING"
   ]
  },
  {
   "cell_type": "code",
   "execution_count": 18,
   "id": "45ab6b1a",
   "metadata": {},
   "outputs": [
    {
     "name": "stderr",
     "output_type": "stream",
     "text": [
      "C:\\Users\\vishn\\anaconda3\\lib\\site-packages\\sklearn\\cluster\\_kmeans.py:1036: UserWarning: KMeans is known to have a memory leak on Windows with MKL, when there are less chunks than available threads. You can avoid it by setting the environment variable OMP_NUM_THREADS=2.\n",
      "  warnings.warn(\n"
     ]
    }
   ],
   "source": [
    "WCSS= [] #Within the cluster sum of square . \n",
    "for i in range(1,11):\n",
    "  kmeans= KMeans(n_clusters= i,init= 'k-means++',random_state=9)\n",
    "  kmeans.fit(scaled_df)\n",
    "  WCSS.append(kmeans.inertia_)"
   ]
  },
  {
   "cell_type": "code",
   "execution_count": 19,
   "id": "20c38f55",
   "metadata": {},
   "outputs": [
    {
     "data": {
      "image/png": "[encoded data removed]",
      "text/plain": [
       "<Figure size 432x288 with 1 Axes>"
      ]
     },
     "metadata": {
      "needs_background": "light"
     },
     "output_type": "display_data"
    }
   ],
   "source": [
    "plt.plot(range(1,11),WCSS)\n",
    "plt.title('ELBOW GRAPH')\n",
    "plt.xlabel('Number of clusters')\n",
    "plt.ylabel('WCSS')\n",
    "plt.show()"
   ]
  },
  {
   "cell_type": "code",
   "execution_count": 21,
   "id": "afcfda1e",
   "metadata": {},
   "outputs": [],
   "source": [
    "kmeans=KMeans(init='k-means++' , n_clusters=3, random_state=0)\n",
    "\n",
    "cluster_model=kmeans.fit(scaled_df)"
   ]
  },
  {
   "cell_type": "code",
   "execution_count": 22,
   "id": "4879c17b",
   "metadata": {},
   "outputs": [],
   "source": [
    "pred= kmeans.fit_predict(scaled_df)"
   ]
  },
  {
   "cell_type": "code",
   "execution_count": 23,
   "id": "d9be834c",
   "metadata": {},
   "outputs": [
    {
     "name": "stdout",
     "output_type": "stream",
     "text": [
      "[2 2 2 1 1 2 2 2 0 2 2 0 2 2 2 0 2 0 2 0 2 0 1 2 2 2 0 0 2 1 1 0 0 1 0 2 1\n",
      " 2 2 1 1 1 2 2 2 2 2 2 2 2 0 0 1 2 1 0 2 2 0 0 2 2 2 2 0 2 0 2 1 0 1 1 1 1\n",
      " 2 1 1 2 0 0 0 2 2 0 0 2 2 1 1 1 0 1 2 1 2 0 2 0 0 0 2 2 2 1 0 0 2 2 2 2 0\n",
      " 2 1 0 0 0 0 0 1 0 0 0 0 2 1 1 1 2 0 1 1 0 0 0 0 0 1 0 0 0 1 1 1 1 0 2 0 0\n",
      " 0 0 0 0 0 0 0 2 2 0 2 2 2 0 0 2 2 2 2 0 0 0 2 2 0 2 0 2 1 1 0 0 0 1 2 1 0\n",
      " 0 0 0 2 2 1 0 0 2 0 1 1 2 0 0 2 2 1 0 0 2 0 2 0 2 0 2 0 0 2 2 2 0 2 0 0 0\n",
      " 0 0 0 0 2 0 0 1 1 0 0 0 1 0 0 1 0 1 1 0 0 0 0 2 0 0 0 0 0 2 1 1 1 1 0 0 1\n",
      " 1 0 0 0 0 2 1 2 1 2 0 0 0 0 1 0 0 1 1 1 2 0 2 1 1 1 0 0 1 0 0 0 0 0 2 0 0\n",
      " 0 2 2 0 2 2 2 2 2 2 2 0 0 2 1 1 2 0 0 2 0 0 0 2 0 0 0 0 1 1 0 0 1 0 0 2 1\n",
      " 2 1 2 0 1 0 1 2 2 0 2 0 0 2 2 0 2 0 2 0 2 1 0 0 2 1 0 0 0 0 0 0 2 0 0 0 0\n",
      " 1 1 0 2 0 0 2 1 0 2 1 1 1 0 1 0 0 0 0 0 0 0 0 1 0 0 2 1 0 0 0 1 0 0 1 0 1\n",
      " 2 0 1 0 0 0 1 0 2 2 0 2 0 2 2 0 0 2 1 2 1 0 0 0 1 0 0 0 1 1 2 0 0]\n"
     ]
    }
   ],
   "source": [
    "print(pred)"
   ]
  },
  {
   "cell_type": "code",
   "execution_count": 24,
   "id": "4bbd2035",
   "metadata": {},
   "outputs": [
    {
     "data": {
      "text/html": [
       "<div>\n",
       "<style scoped>\n",
       "    .dataframe tbody tr th:only-of-type {\n",
       "        vertical-align: middle;\n",
       "    }\n",
       "\n",
       "    .dataframe tbody tr th {\n",
       "        vertical-align: top;\n",
       "    }\n",
       "\n",
       "    .dataframe thead th {\n",
       "        text-align: right;\n",
       "    }\n",
       "</style>\n",
       "<table border=\"1\" class=\"dataframe\">\n",
       "  <thead>\n",
       "    <tr style=\"text-align: right;\">\n",
       "      <th></th>\n",
       "      <th>Channel</th>\n",
       "      <th>Region</th>\n",
       "      <th>Fresh</th>\n",
       "      <th>Milk</th>\n",
       "      <th>Grocery</th>\n",
       "      <th>Frozen</th>\n",
       "      <th>Detergents_Paper</th>\n",
       "      <th>Delicassen</th>\n",
       "      <th>kmeans_clustering</th>\n",
       "    </tr>\n",
       "  </thead>\n",
       "  <tbody>\n",
       "    <tr>\n",
       "      <th>0</th>\n",
       "      <td>1.448652</td>\n",
       "      <td>0.590668</td>\n",
       "      <td>0.128573</td>\n",
       "      <td>1.051586</td>\n",
       "      <td>0.049267</td>\n",
       "      <td>-0.953244</td>\n",
       "      <td>0.095792</td>\n",
       "      <td>0.065892</td>\n",
       "      <td>2</td>\n",
       "    </tr>\n",
       "    <tr>\n",
       "      <th>1</th>\n",
       "      <td>1.448652</td>\n",
       "      <td>0.590668</td>\n",
       "      <td>-0.421627</td>\n",
       "      <td>1.086735</td>\n",
       "      <td>0.353865</td>\n",
       "      <td>-0.309735</td>\n",
       "      <td>0.306519</td>\n",
       "      <td>0.470759</td>\n",
       "      <td>2</td>\n",
       "    </tr>\n",
       "    <tr>\n",
       "      <th>2</th>\n",
       "      <td>1.448652</td>\n",
       "      <td>0.590668</td>\n",
       "      <td>-0.490647</td>\n",
       "      <td>0.858040</td>\n",
       "      <td>0.067935</td>\n",
       "      <td>-0.042437</td>\n",
       "      <td>0.382435</td>\n",
       "      <td>2.469440</td>\n",
       "      <td>2</td>\n",
       "    </tr>\n",
       "    <tr>\n",
       "      <th>3</th>\n",
       "      <td>-0.690297</td>\n",
       "      <td>0.590668</td>\n",
       "      <td>0.187004</td>\n",
       "      <td>-0.879308</td>\n",
       "      <td>-0.457635</td>\n",
       "      <td>1.619962</td>\n",
       "      <td>-0.641923</td>\n",
       "      <td>0.481851</td>\n",
       "      <td>1</td>\n",
       "    </tr>\n",
       "    <tr>\n",
       "      <th>4</th>\n",
       "      <td>1.448652</td>\n",
       "      <td>0.590668</td>\n",
       "      <td>1.103677</td>\n",
       "      <td>0.082487</td>\n",
       "      <td>-0.005824</td>\n",
       "      <td>0.585275</td>\n",
       "      <td>-0.209575</td>\n",
       "      <td>2.469440</td>\n",
       "      <td>1</td>\n",
       "    </tr>\n",
       "  </tbody>\n",
       "</table>\n",
       "</div>"
      ],
      "text/plain": [
       "    Channel    Region     Fresh      Milk   Grocery    Frozen  \\\n",
       "0  1.448652  0.590668  0.128573  1.051586  0.049267 -0.953244   \n",
       "1  1.448652  0.590668 -0.421627  1.086735  0.353865 -0.309735   \n",
       "2  1.448652  0.590668 -0.490647  0.858040  0.067935 -0.042437   \n",
       "3 -0.690297  0.590668  0.187004 -0.879308 -0.457635  1.619962   \n",
       "4  1.448652  0.590668  1.103677  0.082487 -0.005824  0.585275   \n",
       "\n",
       "   Detergents_Paper  Delicassen  kmeans_clustering  \n",
       "0          0.095792    0.065892                  2  \n",
       "1          0.306519    0.470759                  2  \n",
       "2          0.382435    2.469440                  2  \n",
       "3         -0.641923    0.481851                  1  \n",
       "4         -0.209575    2.469440                  1  "
      ]
     },
     "execution_count": 24,
     "metadata": {},
     "output_type": "execute_result"
    }
   ],
   "source": [
    "scaled_df['kmeans_clustering']= pred\n",
    "scaled_df.head()"
   ]
  },
  {
   "cell_type": "code",
   "execution_count": null,
   "id": "800f8044",
   "metadata": {},
   "outputs": [],
   "source": [
    "#HIERARCHICAL CLUSTERING"
   ]
  },
  {
   "cell_type": "code",
   "execution_count": 25,
   "id": "198db795",
   "metadata": {},
   "outputs": [
    {
     "data": {
      "image/png": "[encoded data removed]",
      "text/plain": [
       "<Figure size 1440x720 with 1 Axes>"
      ]
     },
     "metadata": {
      "needs_background": "light"
     },
     "output_type": "display_data"
    }
   ],
   "source": [
    "plt.figure(figsize=(20,10))\n",
    "den= sch.dendrogram(sch.linkage(scaled_df,method='ward'))\n",
    "plt.title('Dendrogram')\n",
    "plt.xlabel('Wines')\n",
    "plt.ylabel('Eucldean distance')\n",
    "plt.show()"
   ]
  },
  {
   "cell_type": "code",
   "execution_count": null,
   "id": "ec9c7b22",
   "metadata": {},
   "outputs": [],
   "source": [
    "#Here number of clusters= 3"
   ]
  },
  {
   "cell_type": "code",
   "execution_count": 26,
   "id": "93e8a4f8",
   "metadata": {},
   "outputs": [],
   "source": [
    "hc= AgglomerativeClustering(n_clusters=3,affinity='euclidean',linkage='ward')\n",
    "pred_hc= hc.fit_predict(scaled_df)"
   ]
  },
  {
   "cell_type": "code",
   "execution_count": 27,
   "id": "d480aab6",
   "metadata": {},
   "outputs": [
    {
     "name": "stdout",
     "output_type": "stream",
     "text": [
      "[1 1 1 2 1 1 1 1 0 1 1 1 1 1 1 0 1 0 1 0 1 0 2 1 1 1 0 0 1 0 0 0 0 2 0 1 0\n",
      " 1 1 2 2 0 1 1 1 1 1 1 1 1 0 0 1 1 0 0 1 1 0 0 1 1 1 1 0 1 0 1 2 0 2 2 2 2\n",
      " 1 0 2 1 0 0 0 1 1 0 1 1 1 2 2 0 0 2 1 2 1 0 1 0 0 0 1 1 1 2 0 0 1 1 1 1 0\n",
      " 1 2 0 0 0 0 0 0 0 0 0 0 1 2 2 2 1 0 0 2 0 0 0 0 0 2 0 0 0 0 0 2 2 0 1 0 0\n",
      " 0 0 0 0 0 0 0 1 1 0 1 1 1 0 0 1 1 1 1 0 0 0 1 1 0 1 0 1 2 0 0 0 0 2 1 2 0\n",
      " 0 0 0 1 1 2 0 0 1 0 2 2 1 0 0 1 1 2 0 0 1 0 1 0 1 0 1 0 0 1 1 1 0 1 0 0 0\n",
      " 2 2 0 0 1 0 0 2 2 0 0 0 2 0 0 2 0 2 2 0 0 0 0 1 0 0 0 2 0 1 2 2 2 2 0 0 2\n",
      " 2 0 2 0 0 1 2 1 2 1 0 2 0 0 2 0 0 0 2 2 1 0 1 2 2 2 0 0 2 0 0 0 0 0 1 0 1\n",
      " 0 1 1 0 1 1 1 1 1 1 1 0 0 1 2 2 1 0 0 1 0 0 0 1 0 0 0 0 2 2 0 0 2 0 0 1 2\n",
      " 1 2 1 0 2 2 2 1 1 0 1 0 0 1 1 0 1 0 1 0 1 2 0 0 1 2 0 0 0 0 0 0 1 0 0 0 0\n",
      " 1 2 0 1 0 0 1 0 0 1 0 2 0 0 2 0 0 0 0 0 0 0 0 2 0 0 1 2 0 0 0 2 0 0 0 0 2\n",
      " 1 1 0 0 0 0 2 0 1 1 0 1 0 1 1 0 1 1 2 1 2 0 0 0 2 0 0 0 2 2 1 0 0]\n"
     ]
    }
   ],
   "source": [
    "print(pred_hc)"
   ]
  },
  {
   "cell_type": "code",
   "execution_count": 28,
   "id": "12195bbc",
   "metadata": {},
   "outputs": [],
   "source": [
    "scaled_df['heirarchical clustering']= pred_hc"
   ]
  },
  {
   "cell_type": "code",
   "execution_count": 29,
   "id": "0e45fa78",
   "metadata": {
    "scrolled": true
   },
   "outputs": [
    {
     "data": {
      "text/html": [
       "<div>\n",
       "<style scoped>\n",
       "    .dataframe tbody tr th:only-of-type {\n",
       "        vertical-align: middle;\n",
       "    }\n",
       "\n",
       "    .dataframe tbody tr th {\n",
       "        vertical-align: top;\n",
       "    }\n",
       "\n",
       "    .dataframe thead th {\n",
       "        text-align: right;\n",
       "    }\n",
       "</style>\n",
       "<table border=\"1\" class=\"dataframe\">\n",
       "  <thead>\n",
       "    <tr style=\"text-align: right;\">\n",
       "      <th></th>\n",
       "      <th>Channel</th>\n",
       "      <th>Region</th>\n",
       "      <th>Fresh</th>\n",
       "      <th>Milk</th>\n",
       "      <th>Grocery</th>\n",
       "      <th>Frozen</th>\n",
       "      <th>Detergents_Paper</th>\n",
       "      <th>Delicassen</th>\n",
       "      <th>kmeans_clustering</th>\n",
       "      <th>heirarchical clustering</th>\n",
       "    </tr>\n",
       "  </thead>\n",
       "  <tbody>\n",
       "    <tr>\n",
       "      <th>0</th>\n",
       "      <td>1.448652</td>\n",
       "      <td>0.590668</td>\n",
       "      <td>0.128573</td>\n",
       "      <td>1.051586</td>\n",
       "      <td>0.049267</td>\n",
       "      <td>-0.953244</td>\n",
       "      <td>0.095792</td>\n",
       "      <td>0.065892</td>\n",
       "      <td>2</td>\n",
       "      <td>1</td>\n",
       "    </tr>\n",
       "    <tr>\n",
       "      <th>1</th>\n",
       "      <td>1.448652</td>\n",
       "      <td>0.590668</td>\n",
       "      <td>-0.421627</td>\n",
       "      <td>1.086735</td>\n",
       "      <td>0.353865</td>\n",
       "      <td>-0.309735</td>\n",
       "      <td>0.306519</td>\n",
       "      <td>0.470759</td>\n",
       "      <td>2</td>\n",
       "      <td>1</td>\n",
       "    </tr>\n",
       "    <tr>\n",
       "      <th>2</th>\n",
       "      <td>1.448652</td>\n",
       "      <td>0.590668</td>\n",
       "      <td>-0.490647</td>\n",
       "      <td>0.858040</td>\n",
       "      <td>0.067935</td>\n",
       "      <td>-0.042437</td>\n",
       "      <td>0.382435</td>\n",
       "      <td>2.469440</td>\n",
       "      <td>2</td>\n",
       "      <td>1</td>\n",
       "    </tr>\n",
       "    <tr>\n",
       "      <th>3</th>\n",
       "      <td>-0.690297</td>\n",
       "      <td>0.590668</td>\n",
       "      <td>0.187004</td>\n",
       "      <td>-0.879308</td>\n",
       "      <td>-0.457635</td>\n",
       "      <td>1.619962</td>\n",
       "      <td>-0.641923</td>\n",
       "      <td>0.481851</td>\n",
       "      <td>1</td>\n",
       "      <td>2</td>\n",
       "    </tr>\n",
       "    <tr>\n",
       "      <th>4</th>\n",
       "      <td>1.448652</td>\n",
       "      <td>0.590668</td>\n",
       "      <td>1.103677</td>\n",
       "      <td>0.082487</td>\n",
       "      <td>-0.005824</td>\n",
       "      <td>0.585275</td>\n",
       "      <td>-0.209575</td>\n",
       "      <td>2.469440</td>\n",
       "      <td>1</td>\n",
       "      <td>1</td>\n",
       "    </tr>\n",
       "  </tbody>\n",
       "</table>\n",
       "</div>"
      ],
      "text/plain": [
       "    Channel    Region     Fresh      Milk   Grocery    Frozen  \\\n",
       "0  1.448652  0.590668  0.128573  1.051586  0.049267 -0.953244   \n",
       "1  1.448652  0.590668 -0.421627  1.086735  0.353865 -0.309735   \n",
       "2  1.448652  0.590668 -0.490647  0.858040  0.067935 -0.042437   \n",
       "3 -0.690297  0.590668  0.187004 -0.879308 -0.457635  1.619962   \n",
       "4  1.448652  0.590668  1.103677  0.082487 -0.005824  0.585275   \n",
       "\n",
       "   Detergents_Paper  Delicassen  kmeans_clustering  heirarchical clustering  \n",
       "0          0.095792    0.065892                  2                        1  \n",
       "1          0.306519    0.470759                  2                        1  \n",
       "2          0.382435    2.469440                  2                        1  \n",
       "3         -0.641923    0.481851                  1                        2  \n",
       "4         -0.209575    2.469440                  1                        1  "
      ]
     },
     "execution_count": 29,
     "metadata": {},
     "output_type": "execute_result"
    }
   ],
   "source": [
    "scaled_df.head()"
   ]
  },
  {
   "cell_type": "code",
   "execution_count": null,
   "id": "84ce0675",
   "metadata": {},
   "outputs": [],
   "source": []
  }
 ],
 "metadata": {
  "kernelspec": {
   "display_name": "Python 3 (ipykernel)",
   "language": "python",
   "name": "python3"
  },
  "language_info": {
   "codemirror_mode": {
    "name": "ipython",
    "version": 3
   },
   "file_extension": ".py",
   "mimetype": "text/x-python",
   "name": "python",
   "nbconvert_exporter": "python",
   "pygments_lexer": "ipython3",
   "version": "3.9.12"
  }
 },
 "nbformat": 4,
 "nbformat_minor": 5
}
